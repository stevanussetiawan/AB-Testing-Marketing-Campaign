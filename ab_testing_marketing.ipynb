{
 "cells": [
  {
   "cell_type": "markdown",
   "metadata": {},
   "source": [
    "# AB Testing Marketing Campaign\n",
    "\n",
    "The three question we want to answer:\n",
    "\n",
    "Q 1: Can the promotion be identified as a significant factor influencing the sales of the new menu item?\n",
    "\n",
    "Q 2: Is there a notable contrast in sales among the three distinct promotions that were examined?\n",
    "\n",
    "Q 3: Do sales exhibit a considerable variance between stores of varying ages?"
   ]
  },
  {
   "cell_type": "code",
   "execution_count": 17,
   "metadata": {
    "ExecuteTime": {
     "end_time": "2024-01-27T13:54:44.710849Z",
     "start_time": "2024-01-27T13:54:44.703847Z"
    }
   },
   "outputs": [],
   "source": [
    "import pandas as pd\n",
    "import numpy as np\n",
    "import seaborn as sns\n",
    "import itertools\n",
    "from pingouin import pairwise_ttests\n",
    "from scipy.stats import shapiro, normaltest, anderson, mannwhitneyu, kruskal, pearsonr"
   ]
  },
  {
   "cell_type": "code",
   "execution_count": 18,
   "metadata": {
    "ExecuteTime": {
     "end_time": "2024-01-27T13:54:44.742854Z",
     "start_time": "2024-01-27T13:54:44.715853Z"
    }
   },
   "outputs": [],
   "source": [
    "def description_data(df):\n",
    "    df_describe = pd.DataFrame({'dataFeatures' : df.columns, 'dataType' : df.dtypes.values, \n",
    "              'null' : [df[i].isna().sum() for i in df.columns],\n",
    "              'nullPct' : [((df[i].isna().sum()/len(df[i]))*100).round(2) for i in df.columns],\n",
    "             'Nunique' : [df[i].nunique() for i in df.columns],\n",
    "             'uniqueSample' : [list(pd.Series(df[i].unique()).sample(2)) for i in df.columns]}).reset_index(drop = True)\n",
    "    return df_describe"
   ]
  },
  {
   "cell_type": "code",
   "execution_count": 19,
   "metadata": {
    "ExecuteTime": {
     "end_time": "2024-01-27T13:54:44.758844Z",
     "start_time": "2024-01-27T13:54:44.746856Z"
    }
   },
   "outputs": [],
   "source": [
    "file_path_excel = \"data/WA_Marketing-Campaign.csv\"\n",
    "df = pd.read_csv(file_path_excel)"
   ]
  },
  {
   "cell_type": "code",
   "execution_count": 20,
   "metadata": {
    "ExecuteTime": {
     "end_time": "2024-01-27T13:54:44.790843Z",
     "start_time": "2024-01-27T13:54:44.762844Z"
    }
   },
   "outputs": [
    {
     "data": {
      "text/html": [
       "<div>\n",
       "<style scoped>\n",
       "    .dataframe tbody tr th:only-of-type {\n",
       "        vertical-align: middle;\n",
       "    }\n",
       "\n",
       "    .dataframe tbody tr th {\n",
       "        vertical-align: top;\n",
       "    }\n",
       "\n",
       "    .dataframe thead th {\n",
       "        text-align: right;\n",
       "    }\n",
       "</style>\n",
       "<table border=\"1\" class=\"dataframe\">\n",
       "  <thead>\n",
       "    <tr style=\"text-align: right;\">\n",
       "      <th></th>\n",
       "      <th>MarketID</th>\n",
       "      <th>MarketSize</th>\n",
       "      <th>LocationID</th>\n",
       "      <th>AgeOfStore</th>\n",
       "      <th>Promotion</th>\n",
       "      <th>week</th>\n",
       "      <th>SalesInThousands</th>\n",
       "    </tr>\n",
       "  </thead>\n",
       "  <tbody>\n",
       "    <tr>\n",
       "      <th>0</th>\n",
       "      <td>1</td>\n",
       "      <td>Medium</td>\n",
       "      <td>1</td>\n",
       "      <td>4</td>\n",
       "      <td>3</td>\n",
       "      <td>1</td>\n",
       "      <td>33.73</td>\n",
       "    </tr>\n",
       "    <tr>\n",
       "      <th>1</th>\n",
       "      <td>1</td>\n",
       "      <td>Medium</td>\n",
       "      <td>1</td>\n",
       "      <td>4</td>\n",
       "      <td>3</td>\n",
       "      <td>2</td>\n",
       "      <td>35.67</td>\n",
       "    </tr>\n",
       "    <tr>\n",
       "      <th>2</th>\n",
       "      <td>1</td>\n",
       "      <td>Medium</td>\n",
       "      <td>1</td>\n",
       "      <td>4</td>\n",
       "      <td>3</td>\n",
       "      <td>3</td>\n",
       "      <td>29.03</td>\n",
       "    </tr>\n",
       "    <tr>\n",
       "      <th>3</th>\n",
       "      <td>1</td>\n",
       "      <td>Medium</td>\n",
       "      <td>1</td>\n",
       "      <td>4</td>\n",
       "      <td>3</td>\n",
       "      <td>4</td>\n",
       "      <td>39.25</td>\n",
       "    </tr>\n",
       "    <tr>\n",
       "      <th>4</th>\n",
       "      <td>1</td>\n",
       "      <td>Medium</td>\n",
       "      <td>2</td>\n",
       "      <td>5</td>\n",
       "      <td>2</td>\n",
       "      <td>1</td>\n",
       "      <td>27.81</td>\n",
       "    </tr>\n",
       "  </tbody>\n",
       "</table>\n",
       "</div>"
      ],
      "text/plain": [
       "   MarketID MarketSize  LocationID  AgeOfStore  Promotion  week  \\\n",
       "0         1     Medium           1           4          3     1   \n",
       "1         1     Medium           1           4          3     2   \n",
       "2         1     Medium           1           4          3     3   \n",
       "3         1     Medium           1           4          3     4   \n",
       "4         1     Medium           2           5          2     1   \n",
       "\n",
       "   SalesInThousands  \n",
       "0             33.73  \n",
       "1             35.67  \n",
       "2             29.03  \n",
       "3             39.25  \n",
       "4             27.81  "
      ]
     },
     "execution_count": 20,
     "metadata": {},
     "output_type": "execute_result"
    }
   ],
   "source": [
    "df.head()"
   ]
  },
  {
   "cell_type": "code",
   "execution_count": 21,
   "metadata": {
    "ExecuteTime": {
     "end_time": "2024-01-27T13:54:44.822844Z",
     "start_time": "2024-01-27T13:54:44.793864Z"
    },
    "scrolled": true
   },
   "outputs": [
    {
     "data": {
      "text/html": [
       "<div>\n",
       "<style scoped>\n",
       "    .dataframe tbody tr th:only-of-type {\n",
       "        vertical-align: middle;\n",
       "    }\n",
       "\n",
       "    .dataframe tbody tr th {\n",
       "        vertical-align: top;\n",
       "    }\n",
       "\n",
       "    .dataframe thead th {\n",
       "        text-align: right;\n",
       "    }\n",
       "</style>\n",
       "<table border=\"1\" class=\"dataframe\">\n",
       "  <thead>\n",
       "    <tr style=\"text-align: right;\">\n",
       "      <th></th>\n",
       "      <th>dataFeatures</th>\n",
       "      <th>dataType</th>\n",
       "      <th>null</th>\n",
       "      <th>nullPct</th>\n",
       "      <th>Nunique</th>\n",
       "      <th>uniqueSample</th>\n",
       "    </tr>\n",
       "  </thead>\n",
       "  <tbody>\n",
       "    <tr>\n",
       "      <th>0</th>\n",
       "      <td>MarketID</td>\n",
       "      <td>int64</td>\n",
       "      <td>0</td>\n",
       "      <td>0.0</td>\n",
       "      <td>10</td>\n",
       "      <td>[1, 2]</td>\n",
       "    </tr>\n",
       "    <tr>\n",
       "      <th>1</th>\n",
       "      <td>MarketSize</td>\n",
       "      <td>object</td>\n",
       "      <td>0</td>\n",
       "      <td>0.0</td>\n",
       "      <td>3</td>\n",
       "      <td>[Medium, Large]</td>\n",
       "    </tr>\n",
       "    <tr>\n",
       "      <th>2</th>\n",
       "      <td>LocationID</td>\n",
       "      <td>int64</td>\n",
       "      <td>0</td>\n",
       "      <td>0.0</td>\n",
       "      <td>137</td>\n",
       "      <td>[907, 403]</td>\n",
       "    </tr>\n",
       "    <tr>\n",
       "      <th>3</th>\n",
       "      <td>AgeOfStore</td>\n",
       "      <td>int64</td>\n",
       "      <td>0</td>\n",
       "      <td>0.0</td>\n",
       "      <td>25</td>\n",
       "      <td>[12, 6]</td>\n",
       "    </tr>\n",
       "    <tr>\n",
       "      <th>4</th>\n",
       "      <td>Promotion</td>\n",
       "      <td>int64</td>\n",
       "      <td>0</td>\n",
       "      <td>0.0</td>\n",
       "      <td>3</td>\n",
       "      <td>[2, 3]</td>\n",
       "    </tr>\n",
       "    <tr>\n",
       "      <th>5</th>\n",
       "      <td>week</td>\n",
       "      <td>int64</td>\n",
       "      <td>0</td>\n",
       "      <td>0.0</td>\n",
       "      <td>4</td>\n",
       "      <td>[3, 4]</td>\n",
       "    </tr>\n",
       "    <tr>\n",
       "      <th>6</th>\n",
       "      <td>SalesInThousands</td>\n",
       "      <td>float64</td>\n",
       "      <td>0</td>\n",
       "      <td>0.0</td>\n",
       "      <td>517</td>\n",
       "      <td>[51.26, 93.63]</td>\n",
       "    </tr>\n",
       "  </tbody>\n",
       "</table>\n",
       "</div>"
      ],
      "text/plain": [
       "       dataFeatures dataType  null  nullPct  Nunique     uniqueSample\n",
       "0          MarketID    int64     0      0.0       10           [1, 2]\n",
       "1        MarketSize   object     0      0.0        3  [Medium, Large]\n",
       "2        LocationID    int64     0      0.0      137       [907, 403]\n",
       "3        AgeOfStore    int64     0      0.0       25          [12, 6]\n",
       "4         Promotion    int64     0      0.0        3           [2, 3]\n",
       "5              week    int64     0      0.0        4           [3, 4]\n",
       "6  SalesInThousands  float64     0      0.0      517   [51.26, 93.63]"
      ]
     },
     "execution_count": 21,
     "metadata": {},
     "output_type": "execute_result"
    }
   ],
   "source": [
    "description_data(df)"
   ]
  },
  {
   "cell_type": "markdown",
   "metadata": {},
   "source": [
    "# Normality Test\n",
    "\n",
    "$H_0$: the data has a Normal distribution.\n",
    "\n",
    "$H_1$: the data does not have a Normal distribution."
   ]
  },
  {
   "cell_type": "code",
   "execution_count": 22,
   "metadata": {
    "ExecuteTime": {
     "end_time": "2024-01-27T13:54:44.838844Z",
     "start_time": "2024-01-27T13:54:44.823848Z"
    }
   },
   "outputs": [],
   "source": [
    "promotion_1 = df[df[\"Promotion\"] == 1][\"SalesInThousands\"]\n",
    "promotion_2 = df[df[\"Promotion\"] == 2][\"SalesInThousands\"]\n",
    "promotion_3 = df[df[\"Promotion\"] == 3][\"SalesInThousands\"]"
   ]
  },
  {
   "cell_type": "code",
   "execution_count": 23,
   "metadata": {
    "ExecuteTime": {
     "end_time": "2024-01-27T13:54:44.854846Z",
     "start_time": "2024-01-27T13:54:44.840850Z"
    }
   },
   "outputs": [],
   "source": [
    "def try_normal(data):\n",
    "    result = {'Anderson' : {i:j for i,j in zip(anderson(data)[2], anderson(data)[1])}, 'Shapiro (P-value)': shapiro(data)[1], \n",
    "     'K^2 (P-value)': normaltest(data)[1]}\n",
    "    result['Anderson']['Test statistic'] = anderson(data)[0]\n",
    "    return result"
   ]
  },
  {
   "cell_type": "code",
   "execution_count": 24,
   "metadata": {
    "ExecuteTime": {
     "end_time": "2024-01-27T13:54:44.870919Z",
     "start_time": "2024-01-27T13:54:44.855848Z"
    },
    "scrolled": true
   },
   "outputs": [
    {
     "data": {
      "text/plain": [
       "{'Anderson': {15.0: 0.563,\n",
       "  10.0: 0.642,\n",
       "  5.0: 0.77,\n",
       "  2.5: 0.898,\n",
       "  1.0: 1.068,\n",
       "  'Test statistic': 4.811285489370562},\n",
       " 'Shapiro (P-value)': 1.977244323825289e-08,\n",
       " 'K^2 (P-value)': 0.0001272552757774151}"
      ]
     },
     "execution_count": 24,
     "metadata": {},
     "output_type": "execute_result"
    }
   ],
   "source": [
    "try_normal(promotion_1)"
   ]
  },
  {
   "cell_type": "code",
   "execution_count": 25,
   "metadata": {
    "ExecuteTime": {
     "end_time": "2024-01-27T13:54:44.886842Z",
     "start_time": "2024-01-27T13:54:44.873851Z"
    }
   },
   "outputs": [
    {
     "data": {
      "text/plain": [
       "{'Anderson': {15.0: 0.564,\n",
       "  10.0: 0.643,\n",
       "  5.0: 0.771,\n",
       "  2.5: 0.899,\n",
       "  1.0: 1.07,\n",
       "  'Test statistic': 5.56041600226439},\n",
       " 'Shapiro (P-value)': 5.456262108793908e-09,\n",
       " 'K^2 (P-value)': 4.348396213594891e-06}"
      ]
     },
     "execution_count": 25,
     "metadata": {},
     "output_type": "execute_result"
    }
   ],
   "source": [
    "try_normal(promotion_2)"
   ]
  },
  {
   "cell_type": "code",
   "execution_count": 26,
   "metadata": {
    "ExecuteTime": {
     "end_time": "2024-01-27T13:54:44.902846Z",
     "start_time": "2024-01-27T13:54:44.888853Z"
    }
   },
   "outputs": [
    {
     "data": {
      "text/plain": [
       "{'Anderson': {15.0: 0.564,\n",
       "  10.0: 0.643,\n",
       "  5.0: 0.771,\n",
       "  2.5: 0.899,\n",
       "  1.0: 1.07,\n",
       "  'Test statistic': 6.11407995911344},\n",
       " 'Shapiro (P-value)': 1.499518376135711e-08,\n",
       " 'K^2 (P-value)': 0.0003212129387460442}"
      ]
     },
     "execution_count": 26,
     "metadata": {},
     "output_type": "execute_result"
    }
   ],
   "source": [
    "try_normal(promotion_3)"
   ]
  },
  {
   "cell_type": "markdown",
   "metadata": {},
   "source": [
    "# Can the promotion be identified as a significant factor influencing the sales of the new menu item?\n",
    "\n",
    "$H_0$: There is no significant difference in the sales of the new menu item between different promotions.\n",
    "\n",
    "$H_1$: There is a significant difference in the sales of the new menu item between different promotions."
   ]
  },
  {
   "cell_type": "code",
   "execution_count": 27,
   "metadata": {
    "ExecuteTime": {
     "end_time": "2024-01-27T13:54:44.918841Z",
     "start_time": "2024-01-27T13:54:44.905849Z"
    },
    "scrolled": true
   },
   "outputs": [
    {
     "data": {
      "text/plain": [
       "KruskalResult(statistic=53.29475169322799, pvalue=2.6741866266697816e-12)"
      ]
     },
     "execution_count": 27,
     "metadata": {},
     "output_type": "execute_result"
    }
   ],
   "source": [
    "kruskal(promotion_1, promotion_2, promotion_3)"
   ]
  },
  {
   "cell_type": "code",
   "execution_count": 28,
   "metadata": {
    "ExecuteTime": {
     "end_time": "2024-01-27T13:54:44.966841Z",
     "start_time": "2024-01-27T13:54:44.920849Z"
    }
   },
   "outputs": [
    {
     "data": {
      "text/html": [
       "<div>\n",
       "<style scoped>\n",
       "    .dataframe tbody tr th:only-of-type {\n",
       "        vertical-align: middle;\n",
       "    }\n",
       "\n",
       "    .dataframe tbody tr th {\n",
       "        vertical-align: top;\n",
       "    }\n",
       "\n",
       "    .dataframe thead th {\n",
       "        text-align: right;\n",
       "    }\n",
       "</style>\n",
       "<table border=\"1\" class=\"dataframe\">\n",
       "  <thead>\n",
       "    <tr style=\"text-align: right;\">\n",
       "      <th></th>\n",
       "      <th>Contrast</th>\n",
       "      <th>A</th>\n",
       "      <th>B</th>\n",
       "      <th>Paired</th>\n",
       "      <th>Parametric</th>\n",
       "      <th>U-val</th>\n",
       "      <th>Tail</th>\n",
       "      <th>p-unc</th>\n",
       "      <th>hedges</th>\n",
       "    </tr>\n",
       "  </thead>\n",
       "  <tbody>\n",
       "    <tr>\n",
       "      <th>0</th>\n",
       "      <td>Promotion</td>\n",
       "      <td>1</td>\n",
       "      <td>2</td>\n",
       "      <td>False</td>\n",
       "      <td>False</td>\n",
       "      <td>22957.5</td>\n",
       "      <td>two-sided</td>\n",
       "      <td>5.845935e-12</td>\n",
       "      <td>0.679522</td>\n",
       "    </tr>\n",
       "    <tr>\n",
       "      <th>1</th>\n",
       "      <td>Promotion</td>\n",
       "      <td>1</td>\n",
       "      <td>3</td>\n",
       "      <td>False</td>\n",
       "      <td>False</td>\n",
       "      <td>18247.0</td>\n",
       "      <td>two-sided</td>\n",
       "      <td>3.508410e-02</td>\n",
       "      <td>0.163744</td>\n",
       "    </tr>\n",
       "    <tr>\n",
       "      <th>2</th>\n",
       "      <td>Promotion</td>\n",
       "      <td>2</td>\n",
       "      <td>3</td>\n",
       "      <td>False</td>\n",
       "      <td>False</td>\n",
       "      <td>12093.0</td>\n",
       "      <td>two-sided</td>\n",
       "      <td>1.197008e-07</td>\n",
       "      <td>-0.502467</td>\n",
       "    </tr>\n",
       "  </tbody>\n",
       "</table>\n",
       "</div>"
      ],
      "text/plain": [
       "    Contrast  A  B  Paired  Parametric    U-val       Tail         p-unc  \\\n",
       "0  Promotion  1  2   False       False  22957.5  two-sided  5.845935e-12   \n",
       "1  Promotion  1  3   False       False  18247.0  two-sided  3.508410e-02   \n",
       "2  Promotion  2  3   False       False  12093.0  two-sided  1.197008e-07   \n",
       "\n",
       "     hedges  \n",
       "0  0.679522  \n",
       "1  0.163744  \n",
       "2 -0.502467  "
      ]
     },
     "execution_count": 28,
     "metadata": {},
     "output_type": "execute_result"
    }
   ],
   "source": [
    "pairwise_ttests(data = df, dv = 'SalesInThousands', between = 'Promotion', parametric = False)"
   ]
  },
  {
   "cell_type": "markdown",
   "metadata": {},
   "source": [
    "Null Hypothesis Rejected. The promotion has a significant impact on the sales of the new menu item."
   ]
  },
  {
   "cell_type": "markdown",
   "metadata": {},
   "source": [
    "# Is there a notable contrast in sales among the three distinct promotions that were examined?\n",
    "$H_0$: The promotion has no significant impact on the sales of the new menu item.\n",
    "\n",
    "$H_1$: The promotion has a significant impact on the sales of the new menu item."
   ]
  },
  {
   "cell_type": "code",
   "execution_count": 29,
   "metadata": {
    "ExecuteTime": {
     "end_time": "2024-01-27T13:54:44.982844Z",
     "start_time": "2024-01-27T13:54:44.968841Z"
    }
   },
   "outputs": [
    {
     "data": {
      "text/html": [
       "<div>\n",
       "<style scoped>\n",
       "    .dataframe tbody tr th:only-of-type {\n",
       "        vertical-align: middle;\n",
       "    }\n",
       "\n",
       "    .dataframe tbody tr th {\n",
       "        vertical-align: top;\n",
       "    }\n",
       "\n",
       "    .dataframe thead th {\n",
       "        text-align: right;\n",
       "    }\n",
       "</style>\n",
       "<table border=\"1\" class=\"dataframe\">\n",
       "  <thead>\n",
       "    <tr style=\"text-align: right;\">\n",
       "      <th></th>\n",
       "      <th>group1</th>\n",
       "      <th>group2</th>\n",
       "      <th>p_val</th>\n",
       "    </tr>\n",
       "  </thead>\n",
       "  <tbody>\n",
       "    <tr>\n",
       "      <th>0</th>\n",
       "      <td>promotion 1</td>\n",
       "      <td>promotion 2</td>\n",
       "      <td>2.922968e-12</td>\n",
       "    </tr>\n",
       "    <tr>\n",
       "      <th>1</th>\n",
       "      <td>promotion 1</td>\n",
       "      <td>promotion 3</td>\n",
       "      <td>1.754205e-02</td>\n",
       "    </tr>\n",
       "    <tr>\n",
       "      <th>2</th>\n",
       "      <td>promotion 2</td>\n",
       "      <td>promotion 3</td>\n",
       "      <td>5.985042e-08</td>\n",
       "    </tr>\n",
       "  </tbody>\n",
       "</table>\n",
       "</div>"
      ],
      "text/plain": [
       "        group1       group2         p_val\n",
       "0  promotion 1  promotion 2  2.922968e-12\n",
       "1  promotion 1  promotion 3  1.754205e-02\n",
       "2  promotion 2  promotion 3  5.985042e-08"
      ]
     },
     "execution_count": 29,
     "metadata": {},
     "output_type": "execute_result"
    }
   ],
   "source": [
    "list_of_promotions = [promotion_1, promotion_2, promotion_3]\n",
    "name_of_promotion = ['promotion 1', 'promotion 2', 'promotion 3']\n",
    "\n",
    "lst_of_df = []\n",
    "\n",
    "for (name_pr_1, pr_1), (name_pr_2, pr_2) in itertools.combinations(zip(name_of_promotion, list_of_promotions), 2):\n",
    "    mannwhitneyu_p_val = mannwhitneyu(pr_1, pr_2)[1]\n",
    "    lst_of_df.append([name_pr_1, name_pr_2, mannwhitneyu_p_val])\n",
    "\n",
    "df_mannwhitneyu = pd.DataFrame(lst_of_df, columns=[\"group1\", \"group2\", \"p_val\"])\n",
    "df_mannwhitneyu"
   ]
  },
  {
   "cell_type": "markdown",
   "metadata": {},
   "source": [
    "Null Hypothesis Rejected. The promotion has a significant impact on the sales of the new menu item."
   ]
  },
  {
   "cell_type": "markdown",
   "metadata": {},
   "source": [
    "# Do sales exhibit a considerable variance between stores of varying ages?"
   ]
  },
  {
   "cell_type": "code",
   "execution_count": 40,
   "metadata": {
    "ExecuteTime": {
     "end_time": "2024-01-27T13:57:00.441522Z",
     "start_time": "2024-01-27T13:57:00.422527Z"
    }
   },
   "outputs": [],
   "source": [
    "import statsmodels.api as sm\n",
    "\n",
    "model = sm.OLS( df[\"AgeOfStore\"], df[\"Promotion\"])\n",
    "results = model.fit()"
   ]
  },
  {
   "cell_type": "code",
   "execution_count": 41,
   "metadata": {
    "ExecuteTime": {
     "end_time": "2024-01-27T13:57:00.835520Z",
     "start_time": "2024-01-27T13:57:00.817523Z"
    }
   },
   "outputs": [
    {
     "data": {
      "text/plain": [
       "Promotion    26.196811\n",
       "dtype: float64"
      ]
     },
     "execution_count": 41,
     "metadata": {},
     "output_type": "execute_result"
    }
   ],
   "source": [
    "results.tvalues"
   ]
  },
  {
   "cell_type": "code",
   "execution_count": 43,
   "metadata": {
    "ExecuteTime": {
     "end_time": "2024-01-27T13:57:21.156839Z",
     "start_time": "2024-01-27T13:57:21.138839Z"
    },
    "scrolled": true
   },
   "outputs": [
    {
     "data": {
      "text/plain": [
       "Promotion    1.242358e-98\n",
       "dtype: float64"
      ]
     },
     "execution_count": 43,
     "metadata": {},
     "output_type": "execute_result"
    }
   ],
   "source": [
    "results.pvalues"
   ]
  },
  {
   "cell_type": "markdown",
   "metadata": {},
   "source": [
    "## Correlation"
   ]
  },
  {
   "cell_type": "code",
   "execution_count": 46,
   "metadata": {
    "ExecuteTime": {
     "end_time": "2024-01-27T14:00:26.082645Z",
     "start_time": "2024-01-27T14:00:26.061656Z"
    }
   },
   "outputs": [
    {
     "name": "stdout",
     "output_type": "stream",
     "text": [
      "correlation: 0.05976484020286552\n",
      "p-value: 0.16237945528693515\n"
     ]
    }
   ],
   "source": [
    "correlation, p_value = pearsonr(df[\"AgeOfStore\"], df[\"Promotion\"])\n",
    "\n",
    "print(f'correlation: {correlation}')\n",
    "print(f'p-value: {p_value}')"
   ]
  },
  {
   "cell_type": "markdown",
   "metadata": {},
   "source": [
    "There is a significant difference in sales between stores of different ages."
   ]
  }
 ],
 "metadata": {
  "hide_input": false,
  "kernelspec": {
   "display_name": "Python 3",
   "language": "python",
   "name": "python3"
  },
  "language_info": {
   "codemirror_mode": {
    "name": "ipython",
    "version": 3
   },
   "file_extension": ".py",
   "mimetype": "text/x-python",
   "name": "python",
   "nbconvert_exporter": "python",
   "pygments_lexer": "ipython3",
   "version": "3.8.5"
  },
  "toc": {
   "base_numbering": 1,
   "nav_menu": {},
   "number_sections": true,
   "sideBar": true,
   "skip_h1_title": false,
   "title_cell": "Table of Contents",
   "title_sidebar": "Contents",
   "toc_cell": false,
   "toc_position": {},
   "toc_section_display": true,
   "toc_window_display": false
  }
 },
 "nbformat": 4,
 "nbformat_minor": 4
}
